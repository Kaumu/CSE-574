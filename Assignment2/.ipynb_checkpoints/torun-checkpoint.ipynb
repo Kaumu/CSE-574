{
 "cells": [
  {
   "cell_type": "code",
   "execution_count": 8,
   "metadata": {},
   "outputs": [
    {
     "name": "stderr",
     "output_type": "stream",
     "text": [
      "test_nnobjval_gradient (__main__.TestNN) ... FAIL\n",
      "test_nnobjval_gradient_reg (__main__.TestNN) ... FAIL\n",
      "test_nnobjval_obj (__main__.TestNN) ... FAIL\n",
      "test_nnobjval_obj_reg (__main__.TestNN) ... FAIL\n",
      "test_nnpredict (__main__.TestNN) ... FAIL\n",
      "test_sigmoid_matrix (__main__.TestNN) ... ok\n",
      "test_sigmoid_scalar (__main__.TestNN) ... ok\n",
      "test_sigmoid_vector (__main__.TestNN) ... ok\n",
      "\n",
      "======================================================================\n",
      "FAIL: test_nnobjval_gradient (__main__.TestNN)\n",
      "----------------------------------------------------------------------\n",
      "Traceback (most recent call last):\n",
      "  File \"/Users/kaumudi/Documents/ML/Assignment2/nnUnitTests.py\", line 33, in test_nnobjval_gradient\n",
      "    self.assertAlmostEqual(np.linalg.norm(objgrad-np.array([\n",
      "AssertionError: 0.7506267988143147 != 0 within 7 places (0.7506267988143147 difference)\n",
      "\n",
      "======================================================================\n",
      "FAIL: test_nnobjval_gradient_reg (__main__.TestNN)\n",
      "----------------------------------------------------------------------\n",
      "Traceback (most recent call last):\n",
      "  File \"/Users/kaumudi/Documents/ML/Assignment2/nnUnitTests.py\", line 45, in test_nnobjval_gradient_reg\n",
      "    self.assertAlmostEqual(np.linalg.norm(objgrad-np.array([\n",
      "AssertionError: 0.7506267984764727 != 0 within 7 places (0.7506267984764727 difference)\n",
      "\n",
      "======================================================================\n",
      "FAIL: test_nnobjval_obj (__main__.TestNN)\n",
      "----------------------------------------------------------------------\n",
      "Traceback (most recent call last):\n",
      "  File \"/Users/kaumudi/Documents/ML/Assignment2/nnUnitTests.py\", line 29, in test_nnobjval_obj\n",
      "    self.assertAlmostEqual(objval,4.055656624827229)\n",
      "AssertionError: 2.5006394640434344 != 4.055656624827229 within 7 places (1.5550171607837946 difference)\n",
      "\n",
      "======================================================================\n",
      "FAIL: test_nnobjval_obj_reg (__main__.TestNN)\n",
      "----------------------------------------------------------------------\n",
      "Traceback (most recent call last):\n",
      "  File \"/Users/kaumudi/Documents/ML/Assignment2/nnUnitTests.py\", line 41, in test_nnobjval_obj_reg\n",
      "    self.assertAlmostEqual(objval,33.601111170281776)\n",
      "AssertionError: 32.04609400949798 != 33.601111170281776 within 7 places (1.5550171607837981 difference)\n",
      "\n",
      "======================================================================\n",
      "FAIL: test_nnpredict (__main__.TestNN)\n",
      "----------------------------------------------------------------------\n",
      "Traceback (most recent call last):\n",
      "  File \"/Users/kaumudi/Documents/ML/Assignment2/nnUnitTests.py\", line 54, in test_nnpredict\n",
      "    self.assertAlmostEqual(len(np.where(preds==0)[0]),2)\n",
      "AssertionError: 20 != 2 within 7 places (18 difference)\n",
      "\n",
      "----------------------------------------------------------------------\n",
      "Ran 8 tests in 0.018s\n",
      "\n",
      "FAILED (failures=5)\n"
     ]
    }
   ],
   "source": [
    "%run nnUnitTests.py"
   ]
  },
  {
   "cell_type": "code",
   "execution_count": null,
   "metadata": {},
   "outputs": [],
   "source": []
  },
  {
   "cell_type": "code",
   "execution_count": null,
   "metadata": {},
   "outputs": [],
   "source": []
  },
  {
   "cell_type": "code",
   "execution_count": null,
   "metadata": {},
   "outputs": [],
   "source": []
  },
  {
   "cell_type": "code",
   "execution_count": null,
   "metadata": {},
   "outputs": [],
   "source": []
  },
  {
   "cell_type": "code",
   "execution_count": null,
   "metadata": {},
   "outputs": [],
   "source": []
  }
 ],
 "metadata": {
  "kernelspec": {
   "display_name": "Python 3",
   "language": "python",
   "name": "python3"
  },
  "language_info": {
   "codemirror_mode": {
    "name": "ipython",
    "version": 3
   },
   "file_extension": ".py",
   "mimetype": "text/x-python",
   "name": "python",
   "nbconvert_exporter": "python",
   "pygments_lexer": "ipython3",
   "version": "3.8.5"
  }
 },
 "nbformat": 4,
 "nbformat_minor": 4
}
